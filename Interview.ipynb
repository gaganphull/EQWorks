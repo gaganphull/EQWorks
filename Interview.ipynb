{
 "cells":[
  {
   "cell_type":"markdown",
   "source":[
    "# <center> Common Problems <\/center>"
   ],
   "attachments":{
    
   },
   "metadata":{
    "datalore":{
     "type":"MD",
     "hide_input_from_viewers":false,
     "hide_output_from_viewers":false
    }
   }
  },
  {
   "cell_type":"code",
   "source":[
    "# Importing Libraries of Interest\n",
    "import pandas as pd\n",
    "import numpy as np"
   ],
   "execution_count":1,
   "outputs":[
    
   ],
   "metadata":{
    "datalore":{
     "type":"CODE",
     "hide_input_from_viewers":false,
     "hide_output_from_viewers":false
    }
   }
  },
  {
   "cell_type":"code",
   "source":[
    "# Reading The CSV Files of Interest:\n",
    "\n",
    "# First Dataframe of Interest\n",
    "df = pd.read_csv('DataSample.csv') # Number of Initial Records: 22024\n",
    "\n",
    "# Second Dataframe of Interest\n",
    "dfPOI = pd.read_csv('POIList.csv') # Number of Initial Records: 4"
   ],
   "execution_count":2,
   "outputs":[
    
   ],
   "metadata":{
    "datalore":{
     "type":"CODE",
     "hide_input_from_viewers":false,
     "hide_output_from_viewers":false
    }
   }
  },
  {
   "cell_type":"code",
   "source":[
    "# Creating a Copy of The First Dataframe of Interest\n",
    "df2 = df\n",
    "# Finding The TimeSt's That Are Duplicates\n",
    "series = df2[df2.columns[1]].duplicated()\n",
    "# Creating a Boolean Array to Identify Duplicates\n",
    "Drop_TimeSt_Values = series[series].index\n",
    "# Dropping The Duplicates\n",
    "df2 = df2.drop(Drop_TimeSt_Values)"
   ],
   "execution_count":3,
   "outputs":[
    
   ],
   "metadata":{
    "datalore":{
     "type":"CODE",
     "hide_input_from_viewers":false,
     "hide_output_from_viewers":false
    }
   }
  },
  {
   "cell_type":"code",
   "source":[
    "# Creating a Copy of The Working Dataframe\n",
    "df3 = df2\n",
    "# Finding the Geoinfo's That are Duplicates\n",
    "series2 = df3.iloc[:,2:7].duplicated()\n",
    "# Creating a Boolean Array to Identify Duplicates\n",
    "Drop_GeoInfo_Values = series2[series2].index\n",
    "# Dropping The Duplicates\n",
    "df2 = df2.drop(Drop_GeoInfo_Values) # Final Number of Records: 5543"
   ],
   "execution_count":4,
   "outputs":[
    
   ],
   "metadata":{
    "datalore":{
     "type":"CODE",
     "hide_input_from_viewers":false,
     "hide_output_from_viewers":false
    }
   }
  },
  {
   "cell_type":"code",
   "source":[
    "# Creating a Copy of The Second Dataframe of Interest\n",
    "dfPOI2 = dfPOI\n",
    "# Finding the POIs That are Duplicates\n",
    "seriesPOI = dfPOI2.iloc[:,1:3].duplicated()\n",
    "# Creating a Boolean Array to Identify Duplicates\n",
    "Drop_POI_Values = seriesPOI[seriesPOI].index\n",
    "# Dropping The Duplicates\n",
    "dfPOI2 = dfPOI2.drop(Drop_POI_Values) # Final Number of POIs: 3\n"
   ],
   "execution_count":5,
   "outputs":[
    
   ],
   "metadata":{
    "datalore":{
     "type":"CODE",
     "hide_input_from_viewers":false,
     "hide_output_from_viewers":false
    }
   }
  },
  {
   "cell_type":"code",
   "source":[
    "# Creating Numpy Arrays for the POI Distance Function\n",
    "# The POI Distance Function was Created for the Common Problems\n",
    "\n",
    "# Longitude and Latitude Data From The Data Sample\n",
    "np_requests = np.array(df2.iloc[:,5:7])\n",
    "\n",
    "# Longitude and Latitude Data From The POI List\n",
    "np_POIs = np.array(dfPOI2.iloc[:,1:3])\n",
    "\n",
    "# Names of the POIs From the POI List Minus Duplicates\n",
    "np_POI_map = np.array(dfPOI2.iloc[:,0])"
   ],
   "execution_count":6,
   "outputs":[
    
   ],
   "metadata":{
    "datalore":{
     "type":"CODE",
     "hide_input_from_viewers":false,
     "hide_output_from_viewers":false
    }
   }
  },
  {
   "cell_type":"code",
   "source":[
    "# POI Distance Function\n",
    "def Distance_From_POI (np_requests, np_POIs,np_POI_map):\n",
    "\n",
    "    # Container Array for the POIs\n",
    "    POI_index = np.array\n",
    "\n",
    "    # Counts Number of Records Inserted Into POI_Index\n",
    "    Count2 = 0\n",
    "\n",
    "    # Iterating Over the Number of Requests in the Data Sample\n",
    "    for n in np_requests:\n",
    "\n",
    "        # Container Array for the Distances Values\n",
    "        Dist_Values = np.array([])\n",
    "\n",
    "        # Counts Number of Records Inserted Into Dist_Values\n",
    "        Count = 0\n",
    "\n",
    "        # Iterating Over the Number of POIs in the POI List\n",
    "        for m in np_POIs:\n",
    "\n",
    "            # Calculating All the Distances Between the Data Sample and the POIs:\n",
    "\n",
    "            # Assigning Variables for the Latitudes and Longitudes\n",
    "            lat1 = n[0]\n",
    "            lon1 = n[1]\n",
    "            lat2 = m[0]\n",
    "            lon2 = m[1]\n",
    "\n",
    "            # Converting Latitude and Longitude Values to Radians\n",
    "            lat1, lon1, lat2, lon2 = map(np.radians, [lat1, lon1, lat2, lon2])\n",
    "\n",
    "            # Calculating Distance Using the Haverside Formula\n",
    "            dlon = lon2 - lon1\n",
    "            dlat = lat2 - lat1\n",
    "            a = np.sin(dlat \/ 2.0) ** 2 + np.cos(lat1) * np.cos(lat2) * np.sin(dlon \/ 2.0) ** 2\n",
    "            c = 2 * np.arcsin(np.sqrt(a))\n",
    "            km = 6367 * c\n",
    "\n",
    "            # Storing the Distance Values in Kilometers\n",
    "            Dist_Values = np.insert(Dist_Values,Count,km)\n",
    "\n",
    "            # Adding 1 to the Count to Ensure Proper Indexing\n",
    "            Count = Count + 1\n",
    "\n",
    "        # Finding the Index of the POI that has the Shortest Distance to this Data Sample\n",
    "        values_index = np.argmin(Dist_Values)\n",
    "\n",
    "        # Assigning the Data Sample to the Closest POI\n",
    "        POI_index = np.insert(POI_index,Count2,np_POI_map[values_index])\n",
    "        # Adding 1 to the Count to Ensure Proper Indexing\n",
    "        Count2 = Count2 + 1\n",
    "        \n",
    "    # Returning the Data Sample - POI Pairs\n",
    "    return POI_index"
   ],
   "execution_count":7,
   "outputs":[
    
   ],
   "metadata":{
    "datalore":{
     "type":"CODE",
     "hide_input_from_viewers":false,
     "hide_output_from_viewers":false
    }
   }
  },
  {
   "cell_type":"code",
   "source":[
    "# Calling the POI Distance Function\n",
    "POI_index = Distance_From_POI(np_requests,np_POIs,np_POI_map)\n",
    "\n",
    "# Adding a Column to the Original DataFrame\n",
    "# This Column Associates the Data Samples to Their Closest POI\n",
    "df2['POI_Min_Dist'] = POI_index[0:-1]\n",
    "\n",
    "# Printing the Result\n",
    "df2"
   ],
   "execution_count":8,
   "outputs":[
    {
     "data":{
      "text\/html":[
       "<div>\n",
       "<style scoped>\n",
       "    .dataframe tbody tr th:only-of-type {\n",
       "        vertical-align: middle;\n",
       "    }\n",
       "\n",
       "    .dataframe tbody tr th {\n",
       "        vertical-align: top;\n",
       "    }\n",
       "\n",
       "    .dataframe thead th {\n",
       "        text-align: right;\n",
       "    }\n",
       "<\/style>\n",
       "<table border=\"1\" class=\"dataframe\">\n",
       "  <thead>\n",
       "    <tr style=\"text-align: right;\">\n",
       "      <th><\/th>\n",
       "      <th>_ID<\/th>\n",
       "      <th>TimeSt<\/th>\n",
       "      <th>Country<\/th>\n",
       "      <th>Province<\/th>\n",
       "      <th>City<\/th>\n",
       "      <th>Latitude<\/th>\n",
       "      <th>Longitude<\/th>\n",
       "      <th>POI_Min_Dist<\/th>\n",
       "    <\/tr>\n",
       "  <\/thead>\n",
       "  <tbody>\n",
       "    <tr>\n",
       "      <th>0<\/th>\n",
       "      <td>4516516<\/td>\n",
       "      <td>2017-06-21 00:00:00.143<\/td>\n",
       "      <td>CA<\/td>\n",
       "      <td>ON<\/td>\n",
       "      <td>Waterloo<\/td>\n",
       "      <td>43.49347<\/td>\n",
       "      <td>-80.49123<\/td>\n",
       "      <td>POI3<\/td>\n",
       "    <\/tr>\n",
       "    <tr>\n",
       "      <th>1<\/th>\n",
       "      <td>4516547<\/td>\n",
       "      <td>2017-06-21 18:00:00.193<\/td>\n",
       "      <td>CA<\/td>\n",
       "      <td>ON<\/td>\n",
       "      <td>London<\/td>\n",
       "      <td>42.93990<\/td>\n",
       "      <td>-81.27090<\/td>\n",
       "      <td>POI3<\/td>\n",
       "    <\/tr>\n",
       "    <tr>\n",
       "      <th>2<\/th>\n",
       "      <td>4516550<\/td>\n",
       "      <td>2017-06-21 15:00:00.287<\/td>\n",
       "      <td>CA<\/td>\n",
       "      <td>ON<\/td>\n",
       "      <td>Guelph<\/td>\n",
       "      <td>43.57760<\/td>\n",
       "      <td>-80.22010<\/td>\n",
       "      <td>POI3<\/td>\n",
       "    <\/tr>\n",
       "    <tr>\n",
       "      <th>3<\/th>\n",
       "      <td>4516600<\/td>\n",
       "      <td>2017-06-21 15:00:00.307<\/td>\n",
       "      <td>CA<\/td>\n",
       "      <td>ON<\/td>\n",
       "      <td>Stratford<\/td>\n",
       "      <td>43.37160<\/td>\n",
       "      <td>-80.97730<\/td>\n",
       "      <td>POI3<\/td>\n",
       "    <\/tr>\n",
       "    <tr>\n",
       "      <th>5<\/th>\n",
       "      <td>4516693<\/td>\n",
       "      <td>2017-06-21 14:00:00.597<\/td>\n",
       "      <td>CA<\/td>\n",
       "      <td>ON<\/td>\n",
       "      <td>Kitchener<\/td>\n",
       "      <td>43.43810<\/td>\n",
       "      <td>-80.50990<\/td>\n",
       "      <td>POI3<\/td>\n",
       "    <\/tr>\n",
       "    <tr>\n",
       "      <th>...<\/th>\n",
       "      <td>...<\/td>\n",
       "      <td>...<\/td>\n",
       "      <td>...<\/td>\n",
       "      <td>...<\/td>\n",
       "      <td>...<\/td>\n",
       "      <td>...<\/td>\n",
       "      <td>...<\/td>\n",
       "      <td>...<\/td>\n",
       "    <\/tr>\n",
       "    <tr>\n",
       "      <th>21961<\/th>\n",
       "      <td>5612218<\/td>\n",
       "      <td>2017-06-21 04:22:52.917<\/td>\n",
       "      <td>CA<\/td>\n",
       "      <td>ON<\/td>\n",
       "      <td>Cambridge<\/td>\n",
       "      <td>43.40400<\/td>\n",
       "      <td>-80.37100<\/td>\n",
       "      <td>POI3<\/td>\n",
       "    <\/tr>\n",
       "    <tr>\n",
       "      <th>21964<\/th>\n",
       "      <td>5612336<\/td>\n",
       "      <td>2017-06-21 14:22:50.413<\/td>\n",
       "      <td>CA<\/td>\n",
       "      <td>NS<\/td>\n",
       "      <td>Antigonish<\/td>\n",
       "      <td>45.69906<\/td>\n",
       "      <td>-62.04134<\/td>\n",
       "      <td>POI4<\/td>\n",
       "    <\/tr>\n",
       "    <tr>\n",
       "      <th>21980<\/th>\n",
       "      <td>5613100<\/td>\n",
       "      <td>2017-06-21 22:22:54.400<\/td>\n",
       "      <td>CA<\/td>\n",
       "      <td>ON<\/td>\n",
       "      <td>Burlington<\/td>\n",
       "      <td>43.37700<\/td>\n",
       "      <td>-79.80910<\/td>\n",
       "      <td>POI3<\/td>\n",
       "    <\/tr>\n",
       "    <tr>\n",
       "      <th>21981<\/th>\n",
       "      <td>5613184<\/td>\n",
       "      <td>2017-06-21 10:22:54.520<\/td>\n",
       "      <td>CA<\/td>\n",
       "      <td>ON<\/td>\n",
       "      <td>Scarborough<\/td>\n",
       "      <td>43.80464<\/td>\n",
       "      <td>-79.32983<\/td>\n",
       "      <td>POI3<\/td>\n",
       "    <\/tr>\n",
       "    <tr>\n",
       "      <th>22012<\/th>\n",
       "      <td>5614446<\/td>\n",
       "      <td>2017-06-21 07:22:53.747<\/td>\n",
       "      <td>CA<\/td>\n",
       "      <td>AB<\/td>\n",
       "      <td>Calgary<\/td>\n",
       "      <td>51.04505<\/td>\n",
       "      <td>-114.09047<\/td>\n",
       "      <td>POI1<\/td>\n",
       "    <\/tr>\n",
       "  <\/tbody>\n",
       "<\/table>\n",
       "<p>5543 rows × 8 columns<\/p>\n",
       "<\/div>"
      ]
     },
     "metadata":{
      
     },
     "output_type":"display_data"
    }
   ],
   "metadata":{
    "datalore":{
     "type":"CODE",
     "hide_input_from_viewers":false,
     "hide_output_from_viewers":false
    }
   }
  }
 ],
 "metadata":{
  "datalore":{
   "version":1,
   "computation_mode":"JUPYTER",
   "package_manager":"pip",
   "base_environment":"default",
   "packages":[
    {
     "name":"geopy",
     "version":"2.2.0",
     "source":"PIP"
    },
    {
     "name":"numba",
     "version":"0.52.0",
     "source":"PIP"
    },
    {
     "name":"cython",
     "version":"3.0a7",
     "source":"PIP"
    }
   ]
  }
 },
 "nbformat":4,
 "nbformat_minor":4
}