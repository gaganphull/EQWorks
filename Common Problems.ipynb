{
 "cells":[
  {
   "cell_type":"markdown",
   "source":[
    "# <center> Common Problems <\/center>"
   ],
   "attachments":{
    
   },
   "metadata":{
    "datalore":{
     "type":"MD",
     "hide_input_from_viewers":false,
     "hide_output_from_viewers":false
    }
   }
  },
  {
   "cell_type":"code",
   "source":[
    "# Importing Libraries of Interest\n",
    "import pandas as pd\n",
    "import numpy as np"
   ],
   "execution_count":49,
   "outputs":[
    
   ],
   "metadata":{
    "datalore":{
     "type":"CODE",
     "hide_input_from_viewers":false,
     "hide_output_from_viewers":false
    }
   }
  },
  {
   "cell_type":"code",
   "source":[
    "# Reading The CSV Files of Interest:\n",
    "\n",
    "# First Dataframe of Interest\n",
    "df = pd.read_csv('DataSample.csv') # Number of Initial Records: 22024\n",
    "\n",
    "# Second Dataframe of Interest\n",
    "dfPOI = pd.read_csv('POIList.csv') # Number of Initial Records: 4"
   ],
   "execution_count":50,
   "outputs":[
    
   ],
   "metadata":{
    "datalore":{
     "type":"CODE",
     "hide_input_from_viewers":false,
     "hide_output_from_viewers":false
    }
   }
  },
  {
   "cell_type":"code",
   "source":[
    "# Finding The TimeSt's That Are Duplicates\n",
    "series = df[df.columns[1]].duplicated()\n",
    "# Creating a Boolean Array to Identify Duplicates\n",
    "Drop_TimeSt_Values = series[series].index\n",
    "# Dropping The Duplicates\n",
    "df = df.drop(Drop_TimeSt_Values)"
   ],
   "execution_count":51,
   "outputs":[
    
   ],
   "metadata":{
    "datalore":{
     "type":"CODE",
     "hide_input_from_viewers":false,
     "hide_output_from_viewers":false
    }
   }
  },
  {
   "cell_type":"code",
   "source":[
    "# Finding the Geoinfo's That are Duplicates\n",
    "series2 = df.iloc[:,2:7].duplicated()\n",
    "# Creating a Boolean Array to Identify Duplicates\n",
    "Drop_GeoInfo_Values = series2[series2].index\n",
    "# Dropping The Duplicates\n",
    "df = df.drop(Drop_GeoInfo_Values) # Final Number of Records: 5543"
   ],
   "execution_count":52,
   "outputs":[
    
   ],
   "metadata":{
    "datalore":{
     "type":"CODE",
     "hide_input_from_viewers":false,
     "hide_output_from_viewers":false
    }
   }
  },
  {
   "cell_type":"code",
   "source":[
    "# Finding the POIs That are Duplicates\n",
    "seriesPOI = dfPOI.iloc[:,1:3].duplicated()\n",
    "# Creating a Boolean Array to Identify Duplicates\n",
    "Drop_POI_Values = seriesPOI[seriesPOI].index\n",
    "# Dropping The Duplicates\n",
    "dfPOI = dfPOI.drop(Drop_POI_Values) # Final Number of POIs: 3\n"
   ],
   "execution_count":53,
   "outputs":[
    
   ],
   "metadata":{
    "datalore":{
     "type":"CODE",
     "hide_input_from_viewers":false,
     "hide_output_from_viewers":false
    }
   }
  },
  {
   "cell_type":"code",
   "source":[
    "def Distance_From_POI(df, dfPOI):\n",
    "    # Creating Dataframe to Hold Distance Values\n",
    "    dfKM = pd.DataFrame(data=None)\n",
    "    # Iterating Over The Number of POIs of Interest\n",
    "    for n in range(0, len(dfPOI.iloc[:, 1])):\n",
    "        # Extracting Longitude and Latitude Data From DataSample\n",
    "        df2 = df.iloc[:, 5:7]\n",
    "        # Extracting Longitude and Latitude Data From POIList\n",
    "        df2['POI Latitude'] = dfPOI.iloc[n, 1]\n",
    "        df2['POI Longitude'] = dfPOI.iloc[n, 2]\n",
    "        # Converting to Longitude and Latitude Values to Radians\n",
    "        df2 = np.radians(df2)\n",
    "        # Calculating Distance Based on the Haverside Formula\n",
    "        df2['dLat'] = df2['POI Latitude'] - df2['Latitude']\n",
    "        df2['dLon'] = df2['POI Longitude'] - df2['Longitude']\n",
    "        df2['a'] = np.sin(df2['dLat'] \/ 2) ** 2 + np.cos(df2['Latitude']) * np.cos(df2['POI Latitude']) * np.sin(\n",
    "            df2['dLon'] \/ 2) ** 2\n",
    "        df2['c'] = 2 * np.arcsin(np.sqrt(df2['a']))\n",
    "        df2['km'] = 6367 * df2['c']\n",
    "        # Appending Result to dfKM\n",
    "        dfKM['{}'.format(dfPOI.iloc[n, 0])] = df2['km']\n",
    "    # Assigning POI to DataSample Request\n",
    "    df['POI_Min_Dist'] = dfKM.idxmin(axis=1)\n",
    "    return"
   ],
   "execution_count":54,
   "outputs":[
    
   ],
   "metadata":{
    "datalore":{
     "type":"CODE",
     "hide_input_from_viewers":false,
     "hide_output_from_viewers":false
    }
   }
  },
  {
   "cell_type":"code",
   "source":[
    "# Calling the POI Distance Function\n",
    "POI_index = Distance_From_POI(df,dfPOI)\n",
    "\n",
    "df"
   ],
   "execution_count":55,
   "outputs":[
    {
     "data":{
      "text\/html":[
       "<div>\n",
       "<style scoped>\n",
       "    .dataframe tbody tr th:only-of-type {\n",
       "        vertical-align: middle;\n",
       "    }\n",
       "\n",
       "    .dataframe tbody tr th {\n",
       "        vertical-align: top;\n",
       "    }\n",
       "\n",
       "    .dataframe thead th {\n",
       "        text-align: right;\n",
       "    }\n",
       "<\/style>\n",
       "<table border=\"1\" class=\"dataframe\">\n",
       "  <thead>\n",
       "    <tr style=\"text-align: right;\">\n",
       "      <th><\/th>\n",
       "      <th>_ID<\/th>\n",
       "      <th>TimeSt<\/th>\n",
       "      <th>Country<\/th>\n",
       "      <th>Province<\/th>\n",
       "      <th>City<\/th>\n",
       "      <th>Latitude<\/th>\n",
       "      <th>Longitude<\/th>\n",
       "      <th>POI_Min_Dist<\/th>\n",
       "    <\/tr>\n",
       "  <\/thead>\n",
       "  <tbody>\n",
       "    <tr>\n",
       "      <th>0<\/th>\n",
       "      <td>4516516<\/td>\n",
       "      <td>2017-06-21 00:00:00.143<\/td>\n",
       "      <td>CA<\/td>\n",
       "      <td>ON<\/td>\n",
       "      <td>Waterloo<\/td>\n",
       "      <td>43.49347<\/td>\n",
       "      <td>-80.49123<\/td>\n",
       "      <td>POI3<\/td>\n",
       "    <\/tr>\n",
       "    <tr>\n",
       "      <th>1<\/th>\n",
       "      <td>4516547<\/td>\n",
       "      <td>2017-06-21 18:00:00.193<\/td>\n",
       "      <td>CA<\/td>\n",
       "      <td>ON<\/td>\n",
       "      <td>London<\/td>\n",
       "      <td>42.93990<\/td>\n",
       "      <td>-81.27090<\/td>\n",
       "      <td>POI3<\/td>\n",
       "    <\/tr>\n",
       "    <tr>\n",
       "      <th>2<\/th>\n",
       "      <td>4516550<\/td>\n",
       "      <td>2017-06-21 15:00:00.287<\/td>\n",
       "      <td>CA<\/td>\n",
       "      <td>ON<\/td>\n",
       "      <td>Guelph<\/td>\n",
       "      <td>43.57760<\/td>\n",
       "      <td>-80.22010<\/td>\n",
       "      <td>POI3<\/td>\n",
       "    <\/tr>\n",
       "    <tr>\n",
       "      <th>3<\/th>\n",
       "      <td>4516600<\/td>\n",
       "      <td>2017-06-21 15:00:00.307<\/td>\n",
       "      <td>CA<\/td>\n",
       "      <td>ON<\/td>\n",
       "      <td>Stratford<\/td>\n",
       "      <td>43.37160<\/td>\n",
       "      <td>-80.97730<\/td>\n",
       "      <td>POI3<\/td>\n",
       "    <\/tr>\n",
       "    <tr>\n",
       "      <th>5<\/th>\n",
       "      <td>4516693<\/td>\n",
       "      <td>2017-06-21 14:00:00.597<\/td>\n",
       "      <td>CA<\/td>\n",
       "      <td>ON<\/td>\n",
       "      <td>Kitchener<\/td>\n",
       "      <td>43.43810<\/td>\n",
       "      <td>-80.50990<\/td>\n",
       "      <td>POI3<\/td>\n",
       "    <\/tr>\n",
       "    <tr>\n",
       "      <th>...<\/th>\n",
       "      <td>...<\/td>\n",
       "      <td>...<\/td>\n",
       "      <td>...<\/td>\n",
       "      <td>...<\/td>\n",
       "      <td>...<\/td>\n",
       "      <td>...<\/td>\n",
       "      <td>...<\/td>\n",
       "      <td>...<\/td>\n",
       "    <\/tr>\n",
       "    <tr>\n",
       "      <th>21961<\/th>\n",
       "      <td>5612218<\/td>\n",
       "      <td>2017-06-21 04:22:52.917<\/td>\n",
       "      <td>CA<\/td>\n",
       "      <td>ON<\/td>\n",
       "      <td>Cambridge<\/td>\n",
       "      <td>43.40400<\/td>\n",
       "      <td>-80.37100<\/td>\n",
       "      <td>POI3<\/td>\n",
       "    <\/tr>\n",
       "    <tr>\n",
       "      <th>21964<\/th>\n",
       "      <td>5612336<\/td>\n",
       "      <td>2017-06-21 14:22:50.413<\/td>\n",
       "      <td>CA<\/td>\n",
       "      <td>NS<\/td>\n",
       "      <td>Antigonish<\/td>\n",
       "      <td>45.69906<\/td>\n",
       "      <td>-62.04134<\/td>\n",
       "      <td>POI4<\/td>\n",
       "    <\/tr>\n",
       "    <tr>\n",
       "      <th>21980<\/th>\n",
       "      <td>5613100<\/td>\n",
       "      <td>2017-06-21 22:22:54.400<\/td>\n",
       "      <td>CA<\/td>\n",
       "      <td>ON<\/td>\n",
       "      <td>Burlington<\/td>\n",
       "      <td>43.37700<\/td>\n",
       "      <td>-79.80910<\/td>\n",
       "      <td>POI3<\/td>\n",
       "    <\/tr>\n",
       "    <tr>\n",
       "      <th>21981<\/th>\n",
       "      <td>5613184<\/td>\n",
       "      <td>2017-06-21 10:22:54.520<\/td>\n",
       "      <td>CA<\/td>\n",
       "      <td>ON<\/td>\n",
       "      <td>Scarborough<\/td>\n",
       "      <td>43.80464<\/td>\n",
       "      <td>-79.32983<\/td>\n",
       "      <td>POI3<\/td>\n",
       "    <\/tr>\n",
       "    <tr>\n",
       "      <th>22012<\/th>\n",
       "      <td>5614446<\/td>\n",
       "      <td>2017-06-21 07:22:53.747<\/td>\n",
       "      <td>CA<\/td>\n",
       "      <td>AB<\/td>\n",
       "      <td>Calgary<\/td>\n",
       "      <td>51.04505<\/td>\n",
       "      <td>-114.09047<\/td>\n",
       "      <td>POI1<\/td>\n",
       "    <\/tr>\n",
       "  <\/tbody>\n",
       "<\/table>\n",
       "<p>5543 rows × 8 columns<\/p>\n",
       "<\/div>"
      ]
     },
     "metadata":{
      
     },
     "output_type":"display_data"
    }
   ],
   "metadata":{
    "datalore":{
     "type":"CODE",
     "hide_input_from_viewers":false,
     "hide_output_from_viewers":false
    }
   }
  }
 ],
 "metadata":{
  "datalore":{
   "version":1,
   "computation_mode":"JUPYTER",
   "package_manager":"pip",
   "base_environment":"default",
   "packages":[
    {
     "name":"geopy",
     "version":"2.2.0",
     "source":"PIP"
    },
    {
     "name":"numba",
     "version":"0.52.0",
     "source":"PIP"
    },
    {
     "name":"cython",
     "version":"3.0a7",
     "source":"PIP"
    }
   ]
  }
 },
 "nbformat":4,
 "nbformat_minor":4
}